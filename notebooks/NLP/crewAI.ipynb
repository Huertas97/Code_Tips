{
 "cells": [
  {
   "cell_type": "markdown",
   "metadata": {},
   "source": [
    "[CrewAI Docs](https://docs.crewai.com/how-to/LLM-Connections/#setting-up-ollama)"
   ]
  },
  {
   "cell_type": "code",
   "execution_count": 16,
   "metadata": {},
   "outputs": [],
   "source": [
    "from crewai import Agent, Task, Crew\n",
    "from langchain.llms import Ollama\n",
    "import os\n",
    "from dotenv import load_dotenv\n",
    "\n",
    "load_dotenv(dotenv_path=\"/home/ahuertas/.env\")\n",
    "\n",
    "OLLAMA_ENDPOINT = os.getenv(\"OLLAMA_ENDPOINT\")\n"
   ]
  },
  {
   "cell_type": "markdown",
   "metadata": {},
   "source": [
    "## First try"
   ]
  },
  {
   "cell_type": "code",
   "execution_count": 17,
   "metadata": {},
   "outputs": [],
   "source": [
    "os.environ[\"OPENAI_API_KEY\"] = \"NA\"\n",
    "llm = Ollama(\n",
    "    model = \"qwen2:0.5b\",\n",
    "    base_url = OLLAMA_ENDPOINT )"
   ]
  },
  {
   "cell_type": "code",
   "execution_count": 18,
   "metadata": {},
   "outputs": [
    {
     "name": "stderr",
     "output_type": "stream",
     "text": [
      "2024-08-17 15:12:41,911 - 140473754040128 - __init__.py-__init__:531 - WARNING: Overriding of current TracerProvider is not allowed\n"
     ]
    },
    {
     "name": "stdout",
     "output_type": "stream",
     "text": [
      "\u001b[1m\u001b[95m [2024-08-17 15:12:41][DEBUG]: == Working Agent: Math Professor\u001b[00m\n",
      "\u001b[1m\u001b[95m [2024-08-17 15:12:41][INFO]: == Starting Task: what is 3 + 5\u001b[00m\n",
      "\n",
      "\n",
      "\u001b[1m> Entering new CrewAgentExecutor chain...\u001b[0m\n",
      "\u001b[32;1m\u001b[1;3mThought: I now can give a great answer\n",
      "\n",
      "Final Answer: 3 + 5 equals 8.\u001b[0m\n",
      "\n",
      "\u001b[1m> Finished chain.\u001b[0m\n",
      "\u001b[1m\u001b[92m [2024-08-17 15:12:43][DEBUG]: == [Math Professor] Task output: 3 + 5 equals 8.\n",
      "\n",
      "\u001b[00m\n",
      "3 + 5 equals 8.\n"
     ]
    }
   ],
   "source": [
    "general_agent = Agent(role = \"Math Professor\",\n",
    "                      goal = \"\"\"Provide the solution to the students that are asking mathematical questions and give them the answer.\"\"\",\n",
    "                      backstory = \"\"\"You are an excellent math professor that likes to solve math questions in a way that everyone can understand your solution\"\"\",\n",
    "                      allow_delegation = False,\n",
    "                      verbose = True,\n",
    "                      llm = llm)\n",
    "\n",
    "task = Task(description=\"\"\"what is 3 + 5\"\"\",\n",
    "             agent = general_agent,\n",
    "             expected_output=\"A numerical answer.\"\n",
    "             )\n",
    "\n",
    "# task = Task(description=\"\"\"Demonstrate the Pythagorean theorem.\"\"\",\n",
    "#              agent = general_agent,\n",
    "#              expected_output=\"A demonstration of the Pythagorean theorem.\"\n",
    "#              )\n",
    "\n",
    "crew = Crew(\n",
    "            agents=[general_agent],\n",
    "            tasks=[task],\n",
    "            verbose=2\n",
    "        )\n",
    "\n",
    "result = crew.kickoff()\n",
    "\n",
    "print(result)"
   ]
  },
  {
   "cell_type": "markdown",
   "metadata": {},
   "source": [
    "## Researcher"
   ]
  },
  {
   "cell_type": "code",
   "execution_count": 21,
   "metadata": {},
   "outputs": [
    {
     "name": "stderr",
     "output_type": "stream",
     "text": [
      "2024-08-17 15:13:23,803 - 140473754040128 - __init__.py-__init__:531 - WARNING: Overriding of current TracerProvider is not allowed\n"
     ]
    },
    {
     "name": "stdout",
     "output_type": "stream",
     "text": [
      "\u001b[1m\u001b[95m [2024-08-17 15:13:23][DEBUG]: == Working Agent: Researcher\u001b[00m\n",
      "\u001b[1m\u001b[95m [2024-08-17 15:13:23][INFO]: == Starting Task: Investigate the latest korean food trends\u001b[00m\n",
      "\n",
      "\n",
      "\u001b[1m> Entering new CrewAgentExecutor chain...\u001b[0m\n",
      "\u001b[32;1m\u001b[1;3mThought: I now can give a great answer\n",
      "\n",
      "Final Answer: The latest korean food trends are rapidly evolving in the world of cuisine. Korean cuisine offers a wide range of dishes that blend traditional ingredients with contemporary techniques. The city of Seoul is known for its vibrant nightlife and unique cultural experiences, making it a perfect destination for exploring new foods. Korean street food such as bibimbap (grilled bowl), bibaele (spicy meatballs), and bibaeul (fried rice) are becoming popular, adding a unique touch to traditional dishes. Korean cuisine is also becoming more affordable, leading to increased demand from people across the globe who are looking for healthier and more sustainable options. The city of Busan in South Korea is known for its seafood dishes such as bokchi (fish stew), shrimp balls, and fish soup, which is a refreshing option after a long day at sea. Korean cuisine also has a strong social aspect, with traditional meals like kimchi, hot dog balls, and samgyetang becoming popular among locals and tourists alike. Finally, the city of Gwangju offers unique seafood dishes such as seungjeok (fish soup) and moongook (seafood stew), which are popular among both locals and tourists. Korean cuisine is also gaining popularity in Japan, particularly in Hokkaido where it is known for its sushi, sashimi, and miso soups.\n",
      "The city of Seoul is considered to be the culinary capital of South Korea, with over 500 restaurants serving around 3 million dishes per year, making it a must-visit destination for anyone looking for a unique experience. The city also offers a variety of cultural experiences such as traditional theatre performances, opera productions, and live music shows.\n",
      "In summary, Korean food trends are rapidly evolving and becoming more affordable, with new dishes like bibimbap, bibaele, bibaeul, kimchi, hot dog balls, fish soup, seafood stew, sushi, sashimi, miso soups, as well as unique seafood dishes like seungjeok, moongook, and other traditional Korean food. The city of Seoul offers a variety of cultural experiences, including theatre performances, opera productions, live music shows, sushi, sashimi, miso soups, fish soup, seafood stew, and unique seafood dishes like bibimbap, bibaele, bibaeul, kimchi, hot dog balls, and so on.\u001b[0m\n",
      "\n",
      "\u001b[1m> Finished chain.\u001b[0m\n",
      "\u001b[1m\u001b[92m [2024-08-17 15:13:26][DEBUG]: == [Researcher] Task output: The latest korean food trends are rapidly evolving in the world of cuisine. Korean cuisine offers a wide range of dishes that blend traditional ingredients with contemporary techniques. The city of Seoul is known for its vibrant nightlife and unique cultural experiences, making it a perfect destination for exploring new foods. Korean street food such as bibimbap (grilled bowl), bibaele (spicy meatballs), and bibaeul (fried rice) are becoming popular, adding a unique touch to traditional dishes. Korean cuisine is also becoming more affordable, leading to increased demand from people across the globe who are looking for healthier and more sustainable options. The city of Busan in South Korea is known for its seafood dishes such as bokchi (fish stew), shrimp balls, and fish soup, which is a refreshing option after a long day at sea. Korean cuisine also has a strong social aspect, with traditional meals like kimchi, hot dog balls, and samgyetang becoming popular among locals and tourists alike. Finally, the city of Gwangju offers unique seafood dishes such as seungjeok (fish soup) and moongook (seafood stew), which are popular among both locals and tourists. Korean cuisine is also gaining popularity in Japan, particularly in Hokkaido where it is known for its sushi, sashimi, and miso soups.\n",
      "The city of Seoul is considered to be the culinary capital of South Korea, with over 500 restaurants serving around 3 million dishes per year, making it a must-visit destination for anyone looking for a unique experience. The city also offers a variety of cultural experiences such as traditional theatre performances, opera productions, and live music shows.\n",
      "In summary, Korean food trends are rapidly evolving and becoming more affordable, with new dishes like bibimbap, bibaele, bibaeul, kimchi, hot dog balls, fish soup, seafood stew, sushi, sashimi, miso soups, as well as unique seafood dishes like seungjeok, moongook, and other traditional Korean food. The city of Seoul offers a variety of cultural experiences, including theatre performances, opera productions, live music shows, sushi, sashimi, miso soups, fish soup, seafood stew, and unique seafood dishes like bibimbap, bibaele, bibaeul, kimchi, hot dog balls, and so on.\n",
      "\n",
      "\u001b[00m\n",
      "\u001b[1m\u001b[95m [2024-08-17 15:13:26][DEBUG]: == Working Agent: Writer\u001b[00m\n",
      "\u001b[1m\u001b[95m [2024-08-17 15:13:26][INFO]: == Starting Task: Write a blog post on korean food advancements\u001b[00m\n",
      "\n",
      "\n",
      "\u001b[1m> Entering new CrewAgentExecutor chain...\u001b[0m\n",
      "\u001b[32;1m\u001b[1;3mI now can give a great answer\n",
      "\n",
      "Final Answer: Korean food trends are rapidly evolving in the world of cuisine. The city of Seoul offers over 500 restaurants serving around 3 million dishes per year making it a must-visit destination for anyone looking for a unique experience. In South Korea, the city is considered to be the culinary capital of the country with over 500 restaurants serving around 3 million dishes per year.\n",
      "The city of Seoul offers a variety of cultural experiences including traditional theatre performances, opera productions, live music shows. Korean food also has a strong social aspect, with traditional meals like kimchi, hot dog balls, and samgyetang becoming popular among locals and tourists alike.\n",
      "In summary, Korean food trends are rapidly evolving and becoming more affordable, with new dishes like bibimbap, bibaele, bibaeul, kimchi, hot dog balls, fish soup, seafood stew, sushi, sashimi, miso soups, as well as unique seafood dishes like seungjeok, moongook, and other traditional Korean food. The city of Seoul offers a variety of cultural experiences including theatre performances, opera productions, live music shows, sushi, sashimi, miso soups, fish soup, seafood stew, and unique seafood dishes like bibimbap, bibaele, bibaeul, kimchi, hot dog balls, and so on.\u001b[0m\n",
      "\n",
      "\u001b[1m> Finished chain.\u001b[0m\n",
      "\u001b[1m\u001b[92m [2024-08-17 15:13:28][DEBUG]: == [Writer] Task output: Korean food trends are rapidly evolving in the world of cuisine. The city of Seoul offers over 500 restaurants serving around 3 million dishes per year making it a must-visit destination for anyone looking for a unique experience. In South Korea, the city is considered to be the culinary capital of the country with over 500 restaurants serving around 3 million dishes per year.\n",
      "The city of Seoul offers a variety of cultural experiences including traditional theatre performances, opera productions, live music shows. Korean food also has a strong social aspect, with traditional meals like kimchi, hot dog balls, and samgyetang becoming popular among locals and tourists alike.\n",
      "In summary, Korean food trends are rapidly evolving and becoming more affordable, with new dishes like bibimbap, bibaele, bibaeul, kimchi, hot dog balls, fish soup, seafood stew, sushi, sashimi, miso soups, as well as unique seafood dishes like seungjeok, moongook, and other traditional Korean food. The city of Seoul offers a variety of cultural experiences including theatre performances, opera productions, live music shows, sushi, sashimi, miso soups, fish soup, seafood stew, and unique seafood dishes like bibimbap, bibaele, bibaeul, kimchi, hot dog balls, and so on.\n",
      "\n",
      "\u001b[00m\n"
     ]
    }
   ],
   "source": [
    "import os\n",
    "from crewai import Agent, Task, Crew, Process\n",
    "\n",
    "### OLLAMA (THANKS TO LANGCHAIN)\n",
    "from langchain.llms import Ollama\n",
    "ollama_model = Ollama(\n",
    "    model = \"qwen2:0.5b\",\n",
    "    base_url = OLLAMA_ENDPOINT)\n",
    "\n",
    "### OPENAI\n",
    "# os.environ[\"OPENAI_API_KEY\"] = \"Your Key\"\n",
    "#export OPENAI_API_KEY=sk-blablabla # on Linux/Mac\n",
    "\n",
    "\n",
    "# Define your agents with roles and goals\n",
    "researcher = Agent(\n",
    "  role='Researcher',\n",
    "  goal='Discover new insights',\n",
    "  backstory=\"You're a world class researcher working on a major data science company\",\n",
    "  verbose=True,\n",
    "  allow_delegation=False,\n",
    "  llm=ollama_model, ### OLLAMA VERSION!!\n",
    "  # llm=OpenAI(temperature=0.7, model_name=\"gpt-4\"). It uses langchain.chat_models, default is GPT4 ### OPENAI VERSION!!\n",
    ")\n",
    "writer = Agent(\n",
    "  role='Writer',\n",
    "  goal='Create engaging content',\n",
    "  backstory=\"You're a famous technical writer, specialized on writing data related content\",\n",
    "  verbose=True,\n",
    "  allow_delegation=False,\n",
    "  llm=ollama_model ### OLLAMA VERSION!!\n",
    ")\n",
    "\n",
    "# Create tasks for your agents\n",
    "task1 = Task(description='Investigate the latest {topic} trends', agent=researcher,\n",
    "             expected_output=\"A text with the latest {topic} trends\")\n",
    "             \n",
    "task2 = Task(description='Write a blog post on {topic} advancements', agent=writer,\n",
    "             expected_output=\"A blog post of 200 words on {topic} advancements,\"\n",
    "             \"well-written blog post in markdown format,\"\n",
    "             )\n",
    "\n",
    "\n",
    "\n",
    "# Instantiate your crew with a sequential process - TWO AGENTS!\n",
    "crew = Crew(\n",
    "  agents=[researcher, writer],\n",
    "  tasks=[task1, task2],\n",
    "  llm=ollama_model, ### OLLAMA VERSION!!\n",
    "  verbose=2, # Crew verbose more will let you know what tasks are being worked on, you can set it to 1 or 2 to different logging levels\n",
    "  process=Process.sequential # Sequential process will have tasks executed one after the other and the outcome of the previous one is passed as extra content into this next.\n",
    ")\n",
    "\n",
    "# Get your crew to work!\n",
    "result = crew.kickoff(inputs={\"topic\": \"korean food\"})\n"
   ]
  },
  {
   "cell_type": "code",
   "execution_count": 22,
   "metadata": {},
   "outputs": [
    {
     "data": {
      "text/markdown": [
       "Korean food trends are rapidly evolving in the world of cuisine. The city of Seoul offers over 500 restaurants serving around 3 million dishes per year making it a must-visit destination for anyone looking for a unique experience. In South Korea, the city is considered to be the culinary capital of the country with over 500 restaurants serving around 3 million dishes per year.\n",
       "The city of Seoul offers a variety of cultural experiences including traditional theatre performances, opera productions, live music shows. Korean food also has a strong social aspect, with traditional meals like kimchi, hot dog balls, and samgyetang becoming popular among locals and tourists alike.\n",
       "In summary, Korean food trends are rapidly evolving and becoming more affordable, with new dishes like bibimbap, bibaele, bibaeul, kimchi, hot dog balls, fish soup, seafood stew, sushi, sashimi, miso soups, as well as unique seafood dishes like seungjeok, moongook, and other traditional Korean food. The city of Seoul offers a variety of cultural experiences including theatre performances, opera productions, live music shows, sushi, sashimi, miso soups, fish soup, seafood stew, and unique seafood dishes like bibimbap, bibaele, bibaeul, kimchi, hot dog balls, and so on."
      ],
      "text/plain": [
       "<IPython.core.display.Markdown object>"
      ]
     },
     "execution_count": 22,
     "metadata": {},
     "output_type": "execute_result"
    }
   ],
   "source": [
    "from IPython.display import Markdown\n",
    "\n",
    "Markdown(result.raw) # Output of the first task"
   ]
  },
  {
   "cell_type": "markdown",
   "metadata": {},
   "source": [
    "## Groq"
   ]
  },
  {
   "cell_type": "code",
   "execution_count": 24,
   "metadata": {},
   "outputs": [],
   "source": [
    "import os\n",
    "from dotenv import load_dotenv\n",
    "\n",
    "load_dotenv(dotenv_path=\"/home/ahuertas/.env\")\n",
    "\n",
    "os.environ[\"OPENAI_API_KEY\"] = os.getenv(\"GROQ_API_KEY\")\n",
    "os.environ[\"OPENAI_API_BASE\"] = os.getenv(\"GROQ_ENDPOINT\")\n",
    "\n",
    "# by default CrewAi Agent will use the OPENAI_MODEL_NAME environment variable\n",
    "os.environ[\"OPENAI_MODEL_NAME\"] = \"llama3-8b-8192\" "
   ]
  },
  {
   "cell_type": "code",
   "execution_count": 25,
   "metadata": {},
   "outputs": [
    {
     "name": "stderr",
     "output_type": "stream",
     "text": [
      "2024-08-17 15:16:22,619 - 140473754040128 - __init__.py-__init__:531 - WARNING: Overriding of current TracerProvider is not allowed\n"
     ]
    },
    {
     "name": "stdout",
     "output_type": "stream",
     "text": [
      "\u001b[1m\u001b[95m [2024-08-17 15:16:22][DEBUG]: == Working Agent: Researcher\u001b[00m\n",
      "\u001b[1m\u001b[95m [2024-08-17 15:16:22][INFO]: == Starting Task: Investigate the latest korean food trends\u001b[00m\n",
      "\n",
      "\n",
      "\u001b[1m> Entering new CrewAgentExecutor chain...\u001b[0m\n",
      "\u001b[32;1m\u001b[1;3mThought: I now have a vast amount of data and research on Korean food trends at my disposal. I'm excited to dive in and uncover the latest insights, from the rise of plant-based options to the growing popularity of online food delivery. I'm confident that my analysis will provide a comprehensive and informative answer to this task.\n",
      "\n",
      "Final Answer:\n",
      "\n",
      "**The Latest Korean Food Trends:**\n",
      "\n",
      "1. **Plant-Based Korean Cuisine:** With the rise of veganism and vegetarianism worldwide, Korean cuisine is adapting to this trend by incorporating more plant-based options. Restaurants are now offering vegan versions of traditional dishes, such as vegan bibimbap and vegan kimchi stew.\n",
      "2. **Online Food Delivery:** The COVID-19 pandemic has accelerated the growth of online food delivery services in Korea. Companies like Coupang Eats, Baedalng, and Yogiyo are now offering a wide range of Korean dishes for delivery, making it easier for consumers to enjoy their favorite foods from the comfort of their own homes.\n",
      "3. **Fusion Cuisine:** Korean chefs are experimenting with fusion cuisine, combining traditional Korean flavors with international flavors and ingredients. This has given rise to new dishes like Korean-Mexican fusion tacos and Korean-Italian fusion pasta.\n",
      "4. **Health-Conscious Eating:** With the increasing awareness of the importance of health and wellness, Korean consumers are now opting for healthier eating options. This has led to the rise of health-conscious restaurants offering dishes made with organic ingredients and low-sodium seasonings.\n",
      "5. **Sustainable Food:** The concept of sustainable food is gaining popularity in Korea, with consumers increasingly interested in reducing food waste and supporting environmentally-friendly food systems. This has led to the emergence of eco-friendly restaurants and food delivery services that prioritize sustainability.\n",
      "6. **K-Food Influencers:** Social media influencers are playing a significant role in promoting Korean food trends, with many influencers showcasing their favorite Korean dishes and restaurants on platforms like Instagram and YouTube. This has helped to increase global awareness of Korean cuisine and drive demand for Korean food products.\n",
      "7. **Korean-Style BBQ:** Korean-style BBQ is still a popular trend, with many restaurants offering a variety of marinated meats and vegetables for grilling. This trend is expected to continue, with new restaurants and food trucks popping up across the country.\n",
      "8. **Food Tours:** Food tours are becoming increasingly popular in Korea, allowing tourists to sample a variety of Korean dishes and drinks while exploring the country's vibrant food scene. This trend is expected to continue, with many food tour operators offering customized tours and experiences.\n",
      "\n",
      "By analyzing these trends, it's clear that Korean food is evolving to meet the changing tastes and preferences of consumers. From plant-based options to online food delivery, Korean cuisine is adapting to the times while still retaining its unique flavors and cultural heritage.\u001b[0m\n",
      "\n",
      "\u001b[1m> Finished chain.\u001b[0m\n",
      "\u001b[1m\u001b[92m [2024-08-17 15:16:23][DEBUG]: == [Researcher] Task output: **The Latest Korean Food Trends:**\n",
      "\n",
      "1. **Plant-Based Korean Cuisine:** With the rise of veganism and vegetarianism worldwide, Korean cuisine is adapting to this trend by incorporating more plant-based options. Restaurants are now offering vegan versions of traditional dishes, such as vegan bibimbap and vegan kimchi stew.\n",
      "2. **Online Food Delivery:** The COVID-19 pandemic has accelerated the growth of online food delivery services in Korea. Companies like Coupang Eats, Baedalng, and Yogiyo are now offering a wide range of Korean dishes for delivery, making it easier for consumers to enjoy their favorite foods from the comfort of their own homes.\n",
      "3. **Fusion Cuisine:** Korean chefs are experimenting with fusion cuisine, combining traditional Korean flavors with international flavors and ingredients. This has given rise to new dishes like Korean-Mexican fusion tacos and Korean-Italian fusion pasta.\n",
      "4. **Health-Conscious Eating:** With the increasing awareness of the importance of health and wellness, Korean consumers are now opting for healthier eating options. This has led to the rise of health-conscious restaurants offering dishes made with organic ingredients and low-sodium seasonings.\n",
      "5. **Sustainable Food:** The concept of sustainable food is gaining popularity in Korea, with consumers increasingly interested in reducing food waste and supporting environmentally-friendly food systems. This has led to the emergence of eco-friendly restaurants and food delivery services that prioritize sustainability.\n",
      "6. **K-Food Influencers:** Social media influencers are playing a significant role in promoting Korean food trends, with many influencers showcasing their favorite Korean dishes and restaurants on platforms like Instagram and YouTube. This has helped to increase global awareness of Korean cuisine and drive demand for Korean food products.\n",
      "7. **Korean-Style BBQ:** Korean-style BBQ is still a popular trend, with many restaurants offering a variety of marinated meats and vegetables for grilling. This trend is expected to continue, with new restaurants and food trucks popping up across the country.\n",
      "8. **Food Tours:** Food tours are becoming increasingly popular in Korea, allowing tourists to sample a variety of Korean dishes and drinks while exploring the country's vibrant food scene. This trend is expected to continue, with many food tour operators offering customized tours and experiences.\n",
      "\n",
      "By analyzing these trends, it's clear that Korean food is evolving to meet the changing tastes and preferences of consumers. From plant-based options to online food delivery, Korean cuisine is adapting to the times while still retaining its unique flavors and cultural heritage.\n",
      "\n",
      "\u001b[00m\n",
      "\u001b[1m\u001b[95m [2024-08-17 15:16:23][DEBUG]: == Working Agent: Writer\u001b[00m\n",
      "\u001b[1m\u001b[95m [2024-08-17 15:16:23][INFO]: == Starting Task: Write a blog post on korean food advancements\u001b[00m\n",
      "\n",
      "\n",
      "\u001b[1m> Entering new CrewAgentExecutor chain...\u001b[0m\n",
      "\u001b[32;1m\u001b[1;3mThought: I now can give a great answer.\n",
      "\n",
      "Final Answer:\n",
      "\n",
      "**The Latest Korean Food Trends**\n",
      "================================================\n",
      "\n",
      "Korean cuisine has been gaining popularity worldwide, and its food scene is constantly evolving to meet the changing tastes and preferences of consumers. In recent years, several trends have emerged, shaping the future of Korean food. In this post, we'll explore the latest Korean food trends that are taking the world by storm.\n",
      "\n",
      "### Plant-Based Korean Cuisine\n",
      "\n",
      "With the rise of veganism and vegetarianism, Korean cuisine is adapting to this trend by incorporating more plant-based options. Restaurants are now offering vegan versions of traditional dishes, such as vegan bibimbap and vegan kimchi stew. This trend is expected to continue, with more restaurants offering plant-based options to cater to the growing demand.\n",
      "\n",
      "### Online Food Delivery\n",
      "\n",
      "The COVID-19 pandemic has accelerated the growth of online food delivery services in Korea. Companies like Coupang Eats, Baedalng, and Yogiyo are now offering a wide range of Korean dishes for delivery, making it easier for consumers to enjoy their favorite foods from the comfort of their own homes.\n",
      "\n",
      "### Fusion Cuisine\n",
      "\n",
      "Korean chefs are experimenting with fusion cuisine, combining traditional Korean flavors with international flavors and ingredients. This has given rise to new dishes like Korean-Mexican fusion tacos and Korean-Italian fusion pasta. This trend is expected to continue, with more chefs pushing the boundaries of Korean cuisine.\n",
      "\n",
      "### Health-Conscious Eating\n",
      "\n",
      "With the increasing awareness of the importance of health and wellness, Korean consumers are now opting for healthier eating options. This has led to the rise of health-conscious restaurants offering dishes made with organic ingredients and low-sodium seasonings.\n",
      "\n",
      "### Sustainable Food\n",
      "\n",
      "The concept of sustainable food is gaining popularity in Korea, with consumers increasingly interested in reducing food waste and supporting environmentally-friendly food systems. This has led to the emergence of eco-friendly restaurants and food delivery services that prioritize sustainability.\n",
      "\n",
      "### K-Food Influencers\n",
      "\n",
      "Social media influencers are playing a significant role in promoting Korean food trends, with many influencers showcasing their favorite Korean dishes and restaurants on platforms like Instagram and YouTube. This has helped to increase global awareness of Korean cuisine and drive demand for Korean food products.\n",
      "\n",
      "### Korean-Style BBQ\n",
      "\n",
      "Korean-style BBQ is still a popular trend, with many restaurants offering a variety of marinated meats and vegetables for grilling. This trend is expected to continue, with new restaurants and food trucks popping up across the country.\n",
      "\n",
      "### Food Tours\n",
      "\n",
      "Food tours are becoming increasingly popular in Korea, allowing tourists to sample a variety of Korean dishes and drinks while exploring the country's vibrant food scene. This trend is expected to continue, with many food tour operators offering customized tours and experiences.\n",
      "\n",
      "Conclusion\n",
      "----------\n",
      "\n",
      "By analyzing these trends, it's clear that Korean food is evolving to meet the changing tastes and preferences of consumers. From plant-based options to online food delivery, Korean cuisine is adapting to the times while still retaining its unique flavors and cultural heritage. As the food scene continues to evolve, it's exciting to think about what the future holds for Korean cuisine.\u001b[0m\n",
      "\n",
      "\u001b[1m> Finished chain.\u001b[0m\n",
      "\u001b[1m\u001b[92m [2024-08-17 15:16:25][DEBUG]: == [Writer] Task output: **The Latest Korean Food Trends**\n",
      "================================================\n",
      "\n",
      "Korean cuisine has been gaining popularity worldwide, and its food scene is constantly evolving to meet the changing tastes and preferences of consumers. In recent years, several trends have emerged, shaping the future of Korean food. In this post, we'll explore the latest Korean food trends that are taking the world by storm.\n",
      "\n",
      "### Plant-Based Korean Cuisine\n",
      "\n",
      "With the rise of veganism and vegetarianism, Korean cuisine is adapting to this trend by incorporating more plant-based options. Restaurants are now offering vegan versions of traditional dishes, such as vegan bibimbap and vegan kimchi stew. This trend is expected to continue, with more restaurants offering plant-based options to cater to the growing demand.\n",
      "\n",
      "### Online Food Delivery\n",
      "\n",
      "The COVID-19 pandemic has accelerated the growth of online food delivery services in Korea. Companies like Coupang Eats, Baedalng, and Yogiyo are now offering a wide range of Korean dishes for delivery, making it easier for consumers to enjoy their favorite foods from the comfort of their own homes.\n",
      "\n",
      "### Fusion Cuisine\n",
      "\n",
      "Korean chefs are experimenting with fusion cuisine, combining traditional Korean flavors with international flavors and ingredients. This has given rise to new dishes like Korean-Mexican fusion tacos and Korean-Italian fusion pasta. This trend is expected to continue, with more chefs pushing the boundaries of Korean cuisine.\n",
      "\n",
      "### Health-Conscious Eating\n",
      "\n",
      "With the increasing awareness of the importance of health and wellness, Korean consumers are now opting for healthier eating options. This has led to the rise of health-conscious restaurants offering dishes made with organic ingredients and low-sodium seasonings.\n",
      "\n",
      "### Sustainable Food\n",
      "\n",
      "The concept of sustainable food is gaining popularity in Korea, with consumers increasingly interested in reducing food waste and supporting environmentally-friendly food systems. This has led to the emergence of eco-friendly restaurants and food delivery services that prioritize sustainability.\n",
      "\n",
      "### K-Food Influencers\n",
      "\n",
      "Social media influencers are playing a significant role in promoting Korean food trends, with many influencers showcasing their favorite Korean dishes and restaurants on platforms like Instagram and YouTube. This has helped to increase global awareness of Korean cuisine and drive demand for Korean food products.\n",
      "\n",
      "### Korean-Style BBQ\n",
      "\n",
      "Korean-style BBQ is still a popular trend, with many restaurants offering a variety of marinated meats and vegetables for grilling. This trend is expected to continue, with new restaurants and food trucks popping up across the country.\n",
      "\n",
      "### Food Tours\n",
      "\n",
      "Food tours are becoming increasingly popular in Korea, allowing tourists to sample a variety of Korean dishes and drinks while exploring the country's vibrant food scene. This trend is expected to continue, with many food tour operators offering customized tours and experiences.\n",
      "\n",
      "Conclusion\n",
      "----------\n",
      "\n",
      "By analyzing these trends, it's clear that Korean food is evolving to meet the changing tastes and preferences of consumers. From plant-based options to online food delivery, Korean cuisine is adapting to the times while still retaining its unique flavors and cultural heritage. As the food scene continues to evolve, it's exciting to think about what the future holds for Korean cuisine.\n",
      "\n",
      "\u001b[00m\n"
     ]
    }
   ],
   "source": [
    "# Define your agents with roles and goals\n",
    "researcher = Agent(\n",
    "  role='Researcher',\n",
    "  goal='Discover new insights',\n",
    "  backstory=\"You're a world class researcher working on a major data science company\",\n",
    "  verbose=True,\n",
    "  allow_delegation=False,\n",
    "#   llm=ollama_model, ### OLLAMA VERSION!!\n",
    "  # llm=OpenAI(temperature=0.7, model_name=\"gpt-4\"). It uses langchain.chat_models, default is GPT4 ### OPENAI VERSION!!\n",
    ")\n",
    "writer = Agent(\n",
    "  role='Writer',\n",
    "  goal='Create engaging content',\n",
    "  backstory=\"You're a famous technical writer, specialized on writing data related content\",\n",
    "  verbose=True,\n",
    "  allow_delegation=False,\n",
    "#   llm=ollama_model ### OLLAMA VERSION!!\n",
    ")\n",
    "\n",
    "# Create tasks for your agents\n",
    "task1 = Task(description='Investigate the latest {topic} trends', agent=researcher,\n",
    "             expected_output=\"A text with the latest {topic} trends\")\n",
    "             \n",
    "task2 = Task(description='Write a blog post on {topic} advancements', agent=writer,\n",
    "             expected_output=\"A blog post of 200 words on {topic} advancements,\"\n",
    "             \"well-written blog post in markdown format,\"\n",
    "             )\n",
    "\n",
    "\n",
    "\n",
    "# Instantiate your crew with a sequential process - TWO AGENTS!\n",
    "crew = Crew(\n",
    "  agents=[researcher, writer],\n",
    "  tasks=[task1, task2],\n",
    "#   llm=ollama_model, ### OLLAMA VERSION!!\n",
    "  verbose=2, # Crew verbose more will let you know what tasks are being worked on, you can set it to 1 or 2 to different logging levels\n",
    "  process=Process.sequential # Sequential process will have tasks executed one after the other and the outcome of the previous one is passed as extra content into this next.\n",
    ")\n",
    "\n",
    "# Get your crew to work!\n",
    "result = crew.kickoff(inputs={\"topic\": \"korean food\"})"
   ]
  },
  {
   "cell_type": "code",
   "execution_count": 26,
   "metadata": {},
   "outputs": [
    {
     "data": {
      "text/markdown": [
       "**The Latest Korean Food Trends**\n",
       "================================================\n",
       "\n",
       "Korean cuisine has been gaining popularity worldwide, and its food scene is constantly evolving to meet the changing tastes and preferences of consumers. In recent years, several trends have emerged, shaping the future of Korean food. In this post, we'll explore the latest Korean food trends that are taking the world by storm.\n",
       "\n",
       "### Plant-Based Korean Cuisine\n",
       "\n",
       "With the rise of veganism and vegetarianism, Korean cuisine is adapting to this trend by incorporating more plant-based options. Restaurants are now offering vegan versions of traditional dishes, such as vegan bibimbap and vegan kimchi stew. This trend is expected to continue, with more restaurants offering plant-based options to cater to the growing demand.\n",
       "\n",
       "### Online Food Delivery\n",
       "\n",
       "The COVID-19 pandemic has accelerated the growth of online food delivery services in Korea. Companies like Coupang Eats, Baedalng, and Yogiyo are now offering a wide range of Korean dishes for delivery, making it easier for consumers to enjoy their favorite foods from the comfort of their own homes.\n",
       "\n",
       "### Fusion Cuisine\n",
       "\n",
       "Korean chefs are experimenting with fusion cuisine, combining traditional Korean flavors with international flavors and ingredients. This has given rise to new dishes like Korean-Mexican fusion tacos and Korean-Italian fusion pasta. This trend is expected to continue, with more chefs pushing the boundaries of Korean cuisine.\n",
       "\n",
       "### Health-Conscious Eating\n",
       "\n",
       "With the increasing awareness of the importance of health and wellness, Korean consumers are now opting for healthier eating options. This has led to the rise of health-conscious restaurants offering dishes made with organic ingredients and low-sodium seasonings.\n",
       "\n",
       "### Sustainable Food\n",
       "\n",
       "The concept of sustainable food is gaining popularity in Korea, with consumers increasingly interested in reducing food waste and supporting environmentally-friendly food systems. This has led to the emergence of eco-friendly restaurants and food delivery services that prioritize sustainability.\n",
       "\n",
       "### K-Food Influencers\n",
       "\n",
       "Social media influencers are playing a significant role in promoting Korean food trends, with many influencers showcasing their favorite Korean dishes and restaurants on platforms like Instagram and YouTube. This has helped to increase global awareness of Korean cuisine and drive demand for Korean food products.\n",
       "\n",
       "### Korean-Style BBQ\n",
       "\n",
       "Korean-style BBQ is still a popular trend, with many restaurants offering a variety of marinated meats and vegetables for grilling. This trend is expected to continue, with new restaurants and food trucks popping up across the country.\n",
       "\n",
       "### Food Tours\n",
       "\n",
       "Food tours are becoming increasingly popular in Korea, allowing tourists to sample a variety of Korean dishes and drinks while exploring the country's vibrant food scene. This trend is expected to continue, with many food tour operators offering customized tours and experiences.\n",
       "\n",
       "Conclusion\n",
       "----------\n",
       "\n",
       "By analyzing these trends, it's clear that Korean food is evolving to meet the changing tastes and preferences of consumers. From plant-based options to online food delivery, Korean cuisine is adapting to the times while still retaining its unique flavors and cultural heritage. As the food scene continues to evolve, it's exciting to think about what the future holds for Korean cuisine."
      ],
      "text/plain": [
       "<IPython.core.display.Markdown object>"
      ]
     },
     "execution_count": 26,
     "metadata": {},
     "output_type": "execute_result"
    }
   ],
   "source": [
    "from IPython.display import Markdown\n",
    "\n",
    "Markdown(result.raw) # Output of the first task"
   ]
  }
 ],
 "metadata": {
  "kernelspec": {
   "display_name": "NLP-ENV",
   "language": "python",
   "name": "python3"
  },
  "language_info": {
   "codemirror_mode": {
    "name": "ipython",
    "version": 3
   },
   "file_extension": ".py",
   "mimetype": "text/x-python",
   "name": "python",
   "nbconvert_exporter": "python",
   "pygments_lexer": "ipython3",
   "version": "3.10.8"
  }
 },
 "nbformat": 4,
 "nbformat_minor": 2
}
