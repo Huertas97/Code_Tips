{
 "cells": [
  {
   "cell_type": "markdown",
   "metadata": {},
   "source": [
    "[CrewAI Docs](https://docs.crewai.com/how-to/LLM-Connections/#setting-up-ollama)"
   ]
  },
  {
   "cell_type": "code",
   "execution_count": 1,
   "metadata": {},
   "outputs": [],
   "source": [
    "from crewai import Agent, Task, Crew\n",
    "from langchain.llms import Ollama\n",
    "import os\n",
    "os.environ[\"OPENAI_API_KEY\"] = \"NA\""
   ]
  },
  {
   "cell_type": "code",
   "execution_count": 7,
   "metadata": {},
   "outputs": [
    {
     "ename": "OSError",
     "evalue": "[Errno 98] Address already in use",
     "output_type": "error",
     "traceback": [
      "\u001b[0;31m---------------------------------------------------------------------------\u001b[0m",
      "\u001b[0;31mOSError\u001b[0m                                   Traceback (most recent call last)",
      "Cell \u001b[0;32mIn[7], line 4\u001b[0m\n\u001b[1;32m      1\u001b[0m \u001b[38;5;28;01mfrom\u001b[39;00m \u001b[38;5;21;01mhttp\u001b[39;00m\u001b[38;5;21;01m.\u001b[39;00m\u001b[38;5;21;01mserver\u001b[39;00m \u001b[38;5;28;01mimport\u001b[39;00m HTTPServer, SimpleHTTPRequestHandler\n\u001b[1;32m      3\u001b[0m server_address \u001b[38;5;241m=\u001b[39m (\u001b[38;5;124m'\u001b[39m\u001b[38;5;124m127.0.0.1\u001b[39m\u001b[38;5;124m'\u001b[39m, \u001b[38;5;241m11434\u001b[39m)\n\u001b[0;32m----> 4\u001b[0m httpd \u001b[38;5;241m=\u001b[39m \u001b[43mHTTPServer\u001b[49m\u001b[43m(\u001b[49m\u001b[43mserver_address\u001b[49m\u001b[43m,\u001b[49m\u001b[43m \u001b[49m\u001b[43mSimpleHTTPRequestHandler\u001b[49m\u001b[43m)\u001b[49m\n\u001b[1;32m      5\u001b[0m httpd\u001b[38;5;241m.\u001b[39mserve_forever()\n",
      "File \u001b[0;32m~/miniconda3/envs/NLP-ENV/lib/python3.10/socketserver.py:452\u001b[0m, in \u001b[0;36mTCPServer.__init__\u001b[0;34m(self, server_address, RequestHandlerClass, bind_and_activate)\u001b[0m\n\u001b[1;32m    450\u001b[0m \u001b[38;5;28;01mif\u001b[39;00m bind_and_activate:\n\u001b[1;32m    451\u001b[0m     \u001b[38;5;28;01mtry\u001b[39;00m:\n\u001b[0;32m--> 452\u001b[0m         \u001b[38;5;28;43mself\u001b[39;49m\u001b[38;5;241;43m.\u001b[39;49m\u001b[43mserver_bind\u001b[49m\u001b[43m(\u001b[49m\u001b[43m)\u001b[49m\n\u001b[1;32m    453\u001b[0m         \u001b[38;5;28mself\u001b[39m\u001b[38;5;241m.\u001b[39mserver_activate()\n\u001b[1;32m    454\u001b[0m     \u001b[38;5;28;01mexcept\u001b[39;00m:\n",
      "File \u001b[0;32m~/miniconda3/envs/NLP-ENV/lib/python3.10/http/server.py:136\u001b[0m, in \u001b[0;36mHTTPServer.server_bind\u001b[0;34m(self)\u001b[0m\n\u001b[1;32m    134\u001b[0m \u001b[38;5;28;01mdef\u001b[39;00m \u001b[38;5;21mserver_bind\u001b[39m(\u001b[38;5;28mself\u001b[39m):\n\u001b[1;32m    135\u001b[0m \u001b[38;5;250m    \u001b[39m\u001b[38;5;124;03m\"\"\"Override server_bind to store the server name.\"\"\"\u001b[39;00m\n\u001b[0;32m--> 136\u001b[0m     \u001b[43msocketserver\u001b[49m\u001b[38;5;241;43m.\u001b[39;49m\u001b[43mTCPServer\u001b[49m\u001b[38;5;241;43m.\u001b[39;49m\u001b[43mserver_bind\u001b[49m\u001b[43m(\u001b[49m\u001b[38;5;28;43mself\u001b[39;49m\u001b[43m)\u001b[49m\n\u001b[1;32m    137\u001b[0m     host, port \u001b[38;5;241m=\u001b[39m \u001b[38;5;28mself\u001b[39m\u001b[38;5;241m.\u001b[39mserver_address[:\u001b[38;5;241m2\u001b[39m]\n\u001b[1;32m    138\u001b[0m     \u001b[38;5;28mself\u001b[39m\u001b[38;5;241m.\u001b[39mserver_name \u001b[38;5;241m=\u001b[39m socket\u001b[38;5;241m.\u001b[39mgetfqdn(host)\n",
      "File \u001b[0;32m~/miniconda3/envs/NLP-ENV/lib/python3.10/socketserver.py:466\u001b[0m, in \u001b[0;36mTCPServer.server_bind\u001b[0;34m(self)\u001b[0m\n\u001b[1;32m    464\u001b[0m \u001b[38;5;28;01mif\u001b[39;00m \u001b[38;5;28mself\u001b[39m\u001b[38;5;241m.\u001b[39mallow_reuse_address:\n\u001b[1;32m    465\u001b[0m     \u001b[38;5;28mself\u001b[39m\u001b[38;5;241m.\u001b[39msocket\u001b[38;5;241m.\u001b[39msetsockopt(socket\u001b[38;5;241m.\u001b[39mSOL_SOCKET, socket\u001b[38;5;241m.\u001b[39mSO_REUSEADDR, \u001b[38;5;241m1\u001b[39m)\n\u001b[0;32m--> 466\u001b[0m \u001b[38;5;28;43mself\u001b[39;49m\u001b[38;5;241;43m.\u001b[39;49m\u001b[43msocket\u001b[49m\u001b[38;5;241;43m.\u001b[39;49m\u001b[43mbind\u001b[49m\u001b[43m(\u001b[49m\u001b[38;5;28;43mself\u001b[39;49m\u001b[38;5;241;43m.\u001b[39;49m\u001b[43mserver_address\u001b[49m\u001b[43m)\u001b[49m\n\u001b[1;32m    467\u001b[0m \u001b[38;5;28mself\u001b[39m\u001b[38;5;241m.\u001b[39mserver_address \u001b[38;5;241m=\u001b[39m \u001b[38;5;28mself\u001b[39m\u001b[38;5;241m.\u001b[39msocket\u001b[38;5;241m.\u001b[39mgetsockname()\n",
      "\u001b[0;31mOSError\u001b[0m: [Errno 98] Address already in use"
     ]
    }
   ],
   "source": [
    "from http.server import HTTPServer, SimpleHTTPRequestHandler\n",
    "\n",
    "server_address = ('127.0.0.1', 11434)\n",
    "httpd = HTTPServer(server_address, SimpleHTTPRequestHandler)\n",
    "httpd.serve_forever()"
   ]
  },
  {
   "cell_type": "code",
   "execution_count": 8,
   "metadata": {},
   "outputs": [],
   "source": [
    "llm = Ollama(\n",
    "    model = \"qwen2:0.5b\",\n",
    "    base_url = \"http://127.0.0.1:11434\")"
   ]
  },
  {
   "cell_type": "code",
   "execution_count": 11,
   "metadata": {},
   "outputs": [
    {
     "name": "stderr",
     "output_type": "stream",
     "text": [
      "2024-07-29 09:00:59,207 - 140314605172544 - __init__.py-__init__:531 - WARNING: Overriding of current TracerProvider is not allowed\n"
     ]
    },
    {
     "name": "stdout",
     "output_type": "stream",
     "text": [
      "\u001b[1m\u001b[95m [2024-07-29 09:00:59][DEBUG]: == Working Agent: Math Professor\u001b[00m\n",
      "\u001b[1m\u001b[95m [2024-07-29 09:00:59][INFO]: == Starting Task: Demonstrate the Pythagorean theorem.\u001b[00m\n",
      "\n",
      "\n",
      "\u001b[1m> Entering new CrewAgentExecutor chain...\u001b[0m\n",
      "\u001b[32;1m\u001b[1;3mThe Pythagorean Theorem states that in a right triangle, the square of the length of the hypotenuse (the side opposite the right angle) is equal to the sum of the squares of the lengths of the other two sides. This theorem can be used to find any side or angles of a right triangle and for calculating the hypotenuse.\n",
      "\n",
      "To demonstrate this theorem, I will use a square with side lengths 3 cm, 4 cm, and 5 cm to calculate the hypotenuse of the right triangle.\n",
      "\n",
      "Thought: I now can give a great answer\n",
      "Final Answer:\n",
      "\n",
      "A demonstration of the Pythagorean theorem. In a right triangle, the length of the hypotenuse (the side opposite the right angle) is equal to the sum of the lengths of the other two sides, expressed as a square root. For example, in the following square with side lengths 3 cm, 4 cm, and 5 cm:\n",
      "\n",
      "The hypotenuse = √(3² + 4²)\n",
      "\n",
      "The result is:\n",
      "The hypotenuse of the right triangle has a length of 5 cm.\n",
      "\n",
      "To calculate the sides (the other two sides), I will use a different square with side lengths 12 cm, 10 cm, and 8 cm.\n",
      "\n",
      "Thought: I now can give a great answer\n",
      "Final Answer:\n",
      "\n",
      "A demonstration of the Pythagorean theorem. In a right triangle, the length of the hypotenuse (the side opposite the right angle) is equal to the sum of the lengths of the other two sides, expressed as a square root. For example, in the following square with side lengths 3 cm, 4 cm, and 5 cm:\n",
      "\n",
      "The hypotenuse = √(3² + 4²)\n",
      "\n",
      "The result is:\n",
      "The hypotenuse of the right triangle has a length of 5 cm.\n",
      "\n",
      "To calculate the sides (the other two sides), I will use a different square with side lengths 12 cm, 10 cm, and 8 cm.\n",
      "\n",
      "Thought: I now can give a great answer\n",
      "Final Answer:\n",
      "\n",
      "A demonstration of the Pythagorean theorem. In a right triangle, the length of the hypotenuse (the side opposite the right angle) is equal to the sum of the lengths of the other two sides, expressed as a square root. For example, in the following square with side lengths 3 cm, 4 cm, and 5 cm:\n",
      "\n",
      "The hypotenuse = √(3² + 4²)\n",
      "\n",
      "The result is:\n",
      "The hypotenuse of the right triangle has a length of 5 cm.\n",
      "\n",
      "To calculate the sides (the other two sides), I will use a different square with side lengths 12 cm, 10 cm, and 8 cm.\u001b[0m\n",
      "\n",
      "\u001b[1m> Finished chain.\u001b[0m\n",
      "\u001b[1m\u001b[92m [2024-07-29 09:01:02][DEBUG]: == [Math Professor] Task output: A demonstration of the Pythagorean theorem. In a right triangle, the length of the hypotenuse (the side opposite the right angle) is equal to the sum of the lengths of the other two sides, expressed as a square root. For example, in the following square with side lengths 3 cm, 4 cm, and 5 cm:\n",
      "\n",
      "The hypotenuse = √(3² + 4²)\n",
      "\n",
      "The result is:\n",
      "The hypotenuse of the right triangle has a length of 5 cm.\n",
      "\n",
      "To calculate the sides (the other two sides), I will use a different square with side lengths 12 cm, 10 cm, and 8 cm.\n",
      "\n",
      "\u001b[00m\n",
      "A demonstration of the Pythagorean theorem. In a right triangle, the length of the hypotenuse (the side opposite the right angle) is equal to the sum of the lengths of the other two sides, expressed as a square root. For example, in the following square with side lengths 3 cm, 4 cm, and 5 cm:\n",
      "\n",
      "The hypotenuse = √(3² + 4²)\n",
      "\n",
      "The result is:\n",
      "The hypotenuse of the right triangle has a length of 5 cm.\n",
      "\n",
      "To calculate the sides (the other two sides), I will use a different square with side lengths 12 cm, 10 cm, and 8 cm.\n"
     ]
    }
   ],
   "source": [
    "general_agent = Agent(role = \"Math Professor\",\n",
    "                      goal = \"\"\"Provide the solution to the students that are asking mathematical questions and give them the answer.\"\"\",\n",
    "                      backstory = \"\"\"You are an excellent math professor that likes to solve math questions in a way that everyone can understand your solution\"\"\",\n",
    "                      allow_delegation = False,\n",
    "                      verbose = True,\n",
    "                      llm = llm)\n",
    "\n",
    "# task = Task(description=\"\"\"what is 3 + 5\"\"\",\n",
    "#              agent = general_agent,\n",
    "#              expected_output=\"A numerical answer.\"\n",
    "#              )\n",
    "\n",
    "task = Task(description=\"\"\"Demonstrate the Pythagorean theorem.\"\"\",\n",
    "             agent = general_agent,\n",
    "             expected_output=\"A demonstration of the Pythagorean theorem.\"\n",
    "             )\n",
    "\n",
    "crew = Crew(\n",
    "            agents=[general_agent],\n",
    "            tasks=[task],\n",
    "            verbose=2\n",
    "        )\n",
    "\n",
    "result = crew.kickoff()\n",
    "\n",
    "print(result)"
   ]
  }
 ],
 "metadata": {
  "kernelspec": {
   "display_name": "NLP-ENV",
   "language": "python",
   "name": "python3"
  },
  "language_info": {
   "codemirror_mode": {
    "name": "ipython",
    "version": 3
   },
   "file_extension": ".py",
   "mimetype": "text/x-python",
   "name": "python",
   "nbconvert_exporter": "python",
   "pygments_lexer": "ipython3",
   "version": "3.10.8"
  }
 },
 "nbformat": 4,
 "nbformat_minor": 2
}
